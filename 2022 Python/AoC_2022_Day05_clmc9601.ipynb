{
 "cells": [
  {
   "cell_type": "code",
   "execution_count": 1,
   "metadata": {},
   "outputs": [],
   "source": [
    "Day = 5\n",
    "Day5InputFile = os.path.dirname(os.getcwd())+f'/2022 Alteryx/AoC_2022_Input_Day_{Day}.csv'"
   ]
  },
  {
   "cell_type": "code",
   "execution_count": 2,
   "metadata": {},
   "outputs": [
    {
     "name": "stdout",
     "output_type": "stream",
     "text": [
      " LBLVVTVLP  TPFFBDRJD\n"
     ]
    }
   ],
   "source": [
    "with open(Day5InputFile) as t:\n",
    "    data = [line.strip().strip('\"') for line in t.readlines()[1:]] # read and save input from file\n",
    "\n",
    "import re\n",
    "import numpy as np\n",
    "from copy import deepcopy   \n",
    "\n",
    "stacks_raw = data[0:8] # parse starting input\n",
    "instructions = data[10:]\n",
    "\n",
    "stacks = [re.findall('.{4}|(?:.{3}$)',x) for x in stacks_raw] # separate into columns of 4 characters\n",
    "stacks = np.char.strip(np.rot90(stacks, -1),'[] ').tolist() # rotate so the bottom crates are on the left\n",
    "stacks = [data[8]] + [''.join(x) for x in stacks] # add an irrelevant 0-th item so the indices will work \n",
    "stacks_2 = deepcopy(stacks) # deepcopy so it doesn't modify the inner lists across variables\n",
    "\n",
    "for line in instructions: # iterate through the instructions\n",
    "    qty, fromS, toS = [int(x) for x in re.split('\\D+', line)[1:]] # parse numbers from the instructions\n",
    "    stacks[toS] += stacks[fromS][-qty:][::-1] # move the quantity of crates between stacks, reverse order\n",
    "    stacks[fromS] = stacks[fromS][:len(stacks[fromS]) - qty] # remove those crates from the old stack\n",
    "\n",
    "    stacks_2[toS] += stacks_2[fromS][-qty:] # same as above but maintaining original order, not reverse\n",
    "    stacks_2[fromS] = stacks_2[fromS][:len(stacks_2[fromS]) - qty]\n",
    "\n",
    "answer = ''.join([x[-1] for x in stacks]) # concatenate the top crate in every stack\n",
    "answer2 = ''.join([x[-1] for x in stacks_2])\n",
    "\n",
    "print(answer, answer2)"
   ]
  }
 ],
 "metadata": {
  "kernelspec": {
   "display_name": "Python 3.9.12 ('base')",
   "language": "python",
   "name": "python3"
  },
  "language_info": {
   "codemirror_mode": {
    "name": "ipython",
    "version": 3
   },
   "file_extension": ".py",
   "mimetype": "text/x-python",
   "name": "python",
   "nbconvert_exporter": "python",
   "pygments_lexer": "ipython3",
   "version": "3.9.12"
  },
  "orig_nbformat": 4,
  "vscode": {
   "interpreter": {
    "hash": "75b7a524e8a351548d492ee200884ed908400909307f0b7ec8b12af0497a868e"
   }
  }
 },
 "nbformat": 4,
 "nbformat_minor": 2
}
