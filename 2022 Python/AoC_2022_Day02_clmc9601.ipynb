{
 "cells": [
  {
   "cell_type": "code",
   "execution_count": 1,
   "id": "1bc45041",
   "metadata": {},
   "outputs": [],
   "source": [
    "import pandas as pd\n",
    "from os import path\n",
    "Day2InputFile = os.path.dirname(os.getcwd())+'/2022 Alteryx/AoC_2022_Input_Day_2.txt'"
   ]
  },
  {
   "cell_type": "code",
   "execution_count": 2,
   "id": "3ce87d70",
   "metadata": {},
   "outputs": [
    {
     "name": "stdout",
     "output_type": "stream",
     "text": [
      "13526.0\n",
      "14204\n"
     ]
    }
   ],
   "source": [
    "# read input from file\n",
    "with open(Day2InputFile) as t:\n",
    "    strategy = t.readlines()\n",
    "strategy_nested = [x.split(' ') for x in strategy] # transform list into nested lists\n",
    "strategy_df = pd.DataFrame(strategy_nested, columns = ['Play','Response']) # convert to dataframe\n",
    "strategy_df['Response'] = [x.strip() for x in strategy_df['Response']] # remove trailing newlines\n",
    "\n",
    "# create a dataframe of possible win and lose combinations\n",
    "plays_df = pd.DataFrame([['C','Y',0],['B','X',0],['A','Z',0],\n",
    "        ['A','Y',6],['B','Z',6],['C','X',6]],columns=['Play','Response','Round Points'])\n",
    "\n",
    "# assign points for per move\n",
    "strategy_df['Move Points'] = [1 if x=='X' else 2 if x=='Y' else 3 for x in strategy_df['Response']] \n",
    "strategy_df = pd.merge(strategy_df,plays_df, on=['Play','Response'], how = 'left') # join in w/l points df\n",
    "strategy_df.fillna(3, inplace=True) # populate points for draws\n",
    "strategy_df['Total Points'] = strategy_df['Move Points'] + strategy_df['Round Points'] # calculate totals\n",
    "\n",
    "print(sum(strategy_df['Total Points'])) # part 1\n",
    "\n",
    "# create a copy of the dataframe, reassign the round points based on new definitions of X, Y, Z\n",
    "strategy_df_2 = strategy_df.drop(['Round Points','Move Points','Total Points'], axis=1)\n",
    "strategy_df_2['Round Points'] = [0 if x=='X' else 3 if x=='Y' else 6 for x in strategy_df_2['Response']]\n",
    "\n",
    "# rejoin the plays table based on opponent play and desired outcome, correctly assign responses for draws\n",
    "strategy_df_2 = pd.merge(strategy_df_2, plays_df, on = ['Play', 'Round Points'], how='left') \n",
    "strategy_df_2.loc[strategy_df_2['Response_y'].isna(),'Response_y'] = \\\n",
    "['X'if x=='A' else 'Y' if x=='B' else 'Z' for x in strategy_df_2['Play'][strategy_df_2['Response_y'].isna()]]\n",
    "\n",
    "# calculate points per move and add up total points\n",
    "strategy_df_2['Move Points'] = [1 if x=='X' else 2 if x=='Y' else 3 for x in strategy_df_2['Response_y']]\n",
    "strategy_df_2['Total Points'] = strategy_df_2['Move Points'] + strategy_df_2['Round Points']\n",
    "\n",
    "print(sum(strategy_df_2['Total Points'])) # part 2"
   ]
  }
 ],
 "metadata": {
  "kernelspec": {
   "display_name": "Python 3.9.12 ('base')",
   "language": "python",
   "name": "python3"
  },
  "language_info": {
   "codemirror_mode": {
    "name": "ipython",
    "version": 3
   },
   "file_extension": ".py",
   "mimetype": "text/x-python",
   "name": "python",
   "nbconvert_exporter": "python",
   "pygments_lexer": "ipython3",
   "version": "3.9.12"
  },
  "vscode": {
   "interpreter": {
    "hash": "75b7a524e8a351548d492ee200884ed908400909307f0b7ec8b12af0497a868e"
   }
  }
 },
 "nbformat": 4,
 "nbformat_minor": 5
}
