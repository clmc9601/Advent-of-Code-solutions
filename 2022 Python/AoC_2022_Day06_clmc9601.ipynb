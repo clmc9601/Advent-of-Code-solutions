{
 "cells": [
  {
   "cell_type": "code",
   "execution_count": 1,
   "metadata": {},
   "outputs": [],
   "source": [
    "Day = 6\n",
    "Day6InputFile = os.path.dirname(os.getcwd())+f'/2022 Alteryx/AoC_2022_Input_Day_{Day}.csv'"
   ]
  },
  {
   "cell_type": "code",
   "execution_count": 2,
   "metadata": {},
   "outputs": [
    {
     "name": "stdout",
     "output_type": "stream",
     "text": [
      "[1625, 2250]\n"
     ]
    }
   ],
   "source": [
    "with open(Day6InputFile) as t:\n",
    "    data = [line.strip().strip('\"') for line in t.readlines()[1:]] # read and save input from file\n",
    "\n",
    "answers = []\n",
    "for size in [4, 14]:\n",
    "    # iterate through the position numbers. If the 4 or 14 preceding characters are all distinct, add the first example to the answers\n",
    "    answers.append([endPos for endPos in range(0, len(data[0])) if len(set((data[0][endPos-size:endPos]))) == size][0])\n",
    "print(answers)"
   ]
  }
 ],
 "metadata": {
  "kernelspec": {
   "display_name": "Python 3.9.12 ('base')",
   "language": "python",
   "name": "python3"
  },
  "language_info": {
   "codemirror_mode": {
    "name": "ipython",
    "version": 3
   },
   "file_extension": ".py",
   "mimetype": "text/x-python",
   "name": "python",
   "nbconvert_exporter": "python",
   "pygments_lexer": "ipython3",
   "version": "3.9.12"
  },
  "orig_nbformat": 4,
  "vscode": {
   "interpreter": {
    "hash": "75b7a524e8a351548d492ee200884ed908400909307f0b7ec8b12af0497a868e"
   }
  }
 },
 "nbformat": 4,
 "nbformat_minor": 2
}
