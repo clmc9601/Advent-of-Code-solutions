{
 "cells": [
  {
   "cell_type": "code",
   "execution_count": 2,
   "metadata": {},
   "outputs": [],
   "source": [
    "Day4InputFile = os.path.dirname(os.getcwd())+'/2022 Alteryx/AoC_2022_Input_Day_4.csv'"
   ]
  },
  {
   "cell_type": "code",
   "execution_count": 3,
   "metadata": {},
   "outputs": [
    {
     "name": "stdout",
     "output_type": "stream",
     "text": [
      "477 830\n"
     ]
    }
   ],
   "source": [
    "import re\n",
    "with open(Day4InputFile) as t:\n",
    "    sections = t.readlines()[1:] # read and save input from file\n",
    "\n",
    "# split each line into the four numbers from the ranges\n",
    "sections = [re.sub('[\"\\\\s]','',x).replace('-',',').split(',') for x in sections]\n",
    "\n",
    "contains = overlaps = 0 # initialize two counting variables\n",
    "\n",
    "for q in sections: # iterate through the assignment ranges\n",
    "    q = [int(num) for num in q] # convert all strings to numbers\n",
    "    group1 = set(range(q[0],q[1]+1)) # create the range of numbers for the first elf\n",
    "    group2 = set(range(q[2],q[3]+1)) # create the range of numbers for the second elf\n",
    "    if group1 & group2 == group1 or group1 & group2 == group2: \n",
    "        contains += 1 # if one range contains another per Part 1, increase the counter\n",
    "    if group1 & group2:\n",
    "        overlaps += 1 # if one range overlaps another per Part 2, increase the counter\n",
    "print(contains, overlaps)"
   ]
  }
 ],
 "metadata": {
  "kernelspec": {
   "display_name": "Python 3.9.12 ('base')",
   "language": "python",
   "name": "python3"
  },
  "language_info": {
   "codemirror_mode": {
    "name": "ipython",
    "version": 3
   },
   "file_extension": ".py",
   "mimetype": "text/x-python",
   "name": "python",
   "nbconvert_exporter": "python",
   "pygments_lexer": "ipython3",
   "version": "3.9.12"
  },
  "orig_nbformat": 4,
  "vscode": {
   "interpreter": {
    "hash": "75b7a524e8a351548d492ee200884ed908400909307f0b7ec8b12af0497a868e"
   }
  }
 },
 "nbformat": 4,
 "nbformat_minor": 2
}
