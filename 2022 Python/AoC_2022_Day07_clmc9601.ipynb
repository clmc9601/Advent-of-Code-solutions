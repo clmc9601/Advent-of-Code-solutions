{
 "cells": [
  {
   "cell_type": "code",
   "execution_count": 1,
   "metadata": {},
   "outputs": [],
   "source": [
    "Day = 7\n",
    "InputFile = os.path.dirname(os.getcwd())+f'/2022 Alteryx/AoC_2022_Input_Day_{Day}.csv'"
   ]
  },
  {
   "cell_type": "code",
   "execution_count": 2,
   "metadata": {},
   "outputs": [],
   "source": [
    "with open(InputFile) as t:\n",
    "    data = [line.strip().strip('\"') for line in t.readlines()[1:]] # read and save input from file\n",
    "\n",
    "from os import path\n",
    "import re"
   ]
  },
  {
   "cell_type": "code",
   "execution_count": 3,
   "metadata": {},
   "outputs": [
    {
     "name": "stdout",
     "output_type": "stream",
     "text": [
      "1084134\n",
      "6183184\n"
     ]
    }
   ],
   "source": [
    "# track the current directory full path for each line in the input data\n",
    "sizes = {}\n",
    "dirs = []\n",
    "for num, line in enumerate(data):\n",
    "    if line == '$ cd /':\n",
    "        dirs.append('0') # assign the outer directory the name '0'\n",
    "    elif line == '$ cd ..':\n",
    "        dirs.append(path.dirname(dirs[-1])) # move out a directory\n",
    "    elif line[:4] == '$ cd':\n",
    "        dirs.append(dirs[-1]+'/'+line[6:]) # add a directory to the previous path\n",
    "    elif re.match('\\d',line[0]) != None: # if it's a file:\n",
    "        pathCurrent = dirs[-1] # get the previous row's directory\n",
    "        iteration = 0\n",
    "        while path.dirname(pathCurrent) != '' or iteration < 1: # make sure doesn't stick in an infinite loop\n",
    "            if path.dirname(pathCurrent) == '':\n",
    "                iteration += 1\n",
    "            sizes.setdefault(pathCurrent, 0) # initialize a dict key for the current directory\n",
    "            sizes[pathCurrent] += int(re.findall('^\\d+',line)[0]) # add the size of the file to each indirect dir\n",
    "            pathCurrent = path.dirname(pathCurrent) # get the next parent directory\n",
    "\n",
    "print(sum([size for key, size in sizes.items() if size <= 100000])) # part 1\n",
    "\n",
    "needed = 30000000 - (70000000 - max(sizes.values()))\n",
    "print(min([size for size in sizes.values() if size >= needed])) # part 2"
   ]
  }
 ],
 "metadata": {
  "kernelspec": {
   "display_name": "Python 3.9.12 ('base')",
   "language": "python",
   "name": "python3"
  },
  "language_info": {
   "codemirror_mode": {
    "name": "ipython",
    "version": 3
   },
   "file_extension": ".py",
   "mimetype": "text/x-python",
   "name": "python",
   "nbconvert_exporter": "python",
   "pygments_lexer": "ipython3",
   "version": "3.9.12"
  },
  "orig_nbformat": 4,
  "vscode": {
   "interpreter": {
    "hash": "75b7a524e8a351548d492ee200884ed908400909307f0b7ec8b12af0497a868e"
   }
  }
 },
 "nbformat": 4,
 "nbformat_minor": 2
}
