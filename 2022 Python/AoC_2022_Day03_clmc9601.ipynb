{
 "cells": [
  {
   "cell_type": "code",
   "execution_count": 1,
   "metadata": {},
   "outputs": [],
   "source": [
    "from os import path\n",
    "Day3InputFile = os.path.dirname(os.getcwd())+'/2022 Alteryx/AoC_2022_Input_Day_3.csv'\n"
   ]
  },
  {
   "cell_type": "code",
   "execution_count": 2,
   "metadata": {},
   "outputs": [
    {
     "name": "stdout",
     "output_type": "stream",
     "text": [
      "7568 2780\n"
     ]
    }
   ],
   "source": [
    "with open(Day3InputFile) as t:\n",
    "    rucksacks = t.readlines()[1:] # read and save Day 3 input from file\n",
    "\n",
    "# iterate through the rucksacks \n",
    "both_pockets = []\n",
    "badges = []\n",
    "for num, bag in enumerate(rucksacks):\n",
    "    bag = bag.strip() # clean trailing whitespace\n",
    "    pocket1 = bag[:int(len(bag)/2)] # split rucksacks in half\n",
    "    pocket2 = bag[int(len(bag)/2):]\n",
    "    # if any of pocket1 letters are in pocket2, add that letter to the list\n",
    "    both_pockets.append([x for x in list(set(pocket1)) if x in pocket2][0])\n",
    "\n",
    "    if num % 3 == 0: # for every third rucksack,\n",
    "        bag0, bag1, bag2 = set(bag), set(rucksacks[num+1]), set(rucksacks[num+2]) # remove duplicate letters\n",
    "        badges.append(list(bag0 & bag1 & bag2)[0]) # the badge is the common letter among the sets\n",
    "\n",
    "part1_sum = 0\n",
    "part2_sum = 0\n",
    "\n",
    "for item in both_pockets: # iterate through the captured letters\n",
    "    if ord(item)<95: # if it's a capital letter\n",
    "        part1_sum += (ord(item)-64)+26 # start the numeric value at 26 and add for sequential letters\n",
    "    else: # if it's a lowercase letter\n",
    "        part1_sum += ord(item)-96 # start the numeric value at 1 and add for sequential letters\n",
    "for item in badges: # repeat for captured badge letters\n",
    "    if ord(item)<95: \n",
    "        part2_sum += (ord(item)-64)+26\n",
    "    else:\n",
    "        part2_sum += ord(item)-96\n",
    "print(part1_sum, part2_sum)"
   ]
  }
 ],
 "metadata": {
  "kernelspec": {
   "display_name": "Python 3.9.12 ('base')",
   "language": "python",
   "name": "python3"
  },
  "language_info": {
   "codemirror_mode": {
    "name": "ipython",
    "version": 3
   },
   "file_extension": ".py",
   "mimetype": "text/x-python",
   "name": "python",
   "nbconvert_exporter": "python",
   "pygments_lexer": "ipython3",
   "version": "3.9.12"
  },
  "orig_nbformat": 4,
  "vscode": {
   "interpreter": {
    "hash": "75b7a524e8a351548d492ee200884ed908400909307f0b7ec8b12af0497a868e"
   }
  }
 },
 "nbformat": 4,
 "nbformat_minor": 2
}
