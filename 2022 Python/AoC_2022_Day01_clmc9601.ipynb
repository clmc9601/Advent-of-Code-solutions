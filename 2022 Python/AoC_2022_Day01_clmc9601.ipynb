{
 "cells": [
  {
   "cell_type": "code",
   "execution_count": 33,
   "id": "4d88b8f3",
   "metadata": {},
   "outputs": [],
   "source": [
    "from os import path\n",
    "Day1InputFile = os.path.dirname(os.getcwd())+'/2022 Alteryx/AoC_2022_Input_Day_1.txt'\n",
    "\n",
    "with open(Day1InputFile, newline='\\r\\n') as t: # custom newline won't split at all\n",
    "    day1 = t.readlines()[0] # read and save Day 1 input from file"
   ]
  },
  {
   "cell_type": "code",
   "execution_count": 34,
   "id": "b7f93e02",
   "metadata": {},
   "outputs": [
    {
     "name": "stdout",
     "output_type": "stream",
     "text": [
      "69281\n",
      "201524\n"
     ]
    }
   ],
   "source": [
    "# day1 variable is a multi-line string where I saved the input data\n",
    "day1_list = day1.split('\\n\\n') # split into groups based on extra newline\n",
    "day1_list_clean = [x.split('\\n') for x in day1_list] # split each line into a nested list\n",
    "\n",
    "elf_calories = []\n",
    "for elf in day1_list_clean: # iterate through each elf\n",
    "    elf_calories.append(sum([int(item) for item in elf])) # add up the calories per elf\n",
    "\n",
    "print(max(elf_calories)) # Part 1: highest total calories of the elves\n",
    "\n",
    "elf_calories.sort()\n",
    "print(sum(elf_calories[-3:])) # Part 2: add up the calories from the top three elves"
   ]
  }
 ],
 "metadata": {
  "kernelspec": {
   "display_name": "base",
   "language": "python",
   "name": "python3"
  },
  "language_info": {
   "codemirror_mode": {
    "name": "ipython",
    "version": 3
   },
   "file_extension": ".py",
   "mimetype": "text/x-python",
   "name": "python",
   "nbconvert_exporter": "python",
   "pygments_lexer": "ipython3",
   "version": "3.9.12"
  },
  "vscode": {
   "interpreter": {
    "hash": "75b7a524e8a351548d492ee200884ed908400909307f0b7ec8b12af0497a868e"
   }
  }
 },
 "nbformat": 4,
 "nbformat_minor": 5
}
